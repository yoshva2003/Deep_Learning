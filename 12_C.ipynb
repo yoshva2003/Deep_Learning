{
  "nbformat": 4,
  "nbformat_minor": 0,
  "metadata": {
    "colab": {
      "provenance": []
    },
    "kernelspec": {
      "name": "python3",
      "display_name": "Python 3"
    },
    "language_info": {
      "name": "python"
    }
  },
  "cells": [
    {
      "cell_type": "code",
      "source": [
        "from transformers import AutoTokenizer, AutoModelForCausalLM\n",
        "import torch\n",
        "\n",
        "tokenizer = AutoTokenizer.from_pretrained(\"microsoft/DialoGPT-medium\")\n",
        "model = AutoModelForCausalLM.from_pretrained(\"microsoft/DialoGPT-medium\")\n",
        "\n",
        "chat_history_ids = None\n",
        "print(\"Conversational AI Chatbot (type 'quit' to exit)\")\n",
        "\n",
        "while True:\n",
        "    user_input = input(\"You: \")\n",
        "    if user_input.lower() in [\"quit\", \"exit\"]:\n",
        "        print(\"Bot: Goodbye!\")\n",
        "        break\n",
        "\n",
        "    new_input_ids = tokenizer.encode(user_input + tokenizer.eos_token, return_tensors='pt')\n",
        "    attention_mask = torch.ones(new_input_ids.shape, dtype=torch.long)\n",
        "\n",
        "    if chat_history_ids is not None:\n",
        "        bot_input_ids = torch.cat([chat_history_ids, new_input_ids], dim=-1)\n",
        "        attention_mask = torch.ones(bot_input_ids.shape, dtype=torch.long)\n",
        "    else:\n",
        "        bot_input_ids = new_input_ids\n",
        "\n",
        "    chat_history_ids = model.generate(\n",
        "        bot_input_ids,\n",
        "        attention_mask=attention_mask,\n",
        "        max_length=1000,\n",
        "        pad_token_id=tokenizer.eos_token_id,\n",
        "        do_sample=True,\n",
        "        temperature=0.7,\n",
        "        top_k=50,\n",
        "        top_p=0.95\n",
        "    )\n",
        "\n",
        "    bot_output = tokenizer.decode(chat_history_ids[:, bot_input_ids.shape[-1]:][0], skip_special_tokens=True)\n",
        "    print(\"Bot:\", bot_output)"
      ],
      "metadata": {
        "colab": {
          "base_uri": "https://localhost:8080/"
        },
        "id": "goWXeqM2W2N1",
        "outputId": "ba255794-6675-42d0-c488-7271d47096a8"
      },
      "execution_count": 14,
      "outputs": [
        {
          "output_type": "stream",
          "name": "stdout",
          "text": [
            "Conversational AI Chatbot (type 'quit' to exit)\n",
            "You: quit\n",
            "Bot: Goodbye!\n"
          ]
        }
      ]
    },
    {
      "cell_type": "code",
      "source": [],
      "metadata": {
        "id": "EIUSFx0vepsV"
      },
      "execution_count": null,
      "outputs": []
    }
  ]
}