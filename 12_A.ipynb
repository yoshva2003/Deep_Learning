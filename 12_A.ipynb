{
  "nbformat": 4,
  "nbformat_minor": 0,
  "metadata": {
    "colab": {
      "provenance": []
    },
    "kernelspec": {
      "name": "python3",
      "display_name": "Python 3"
    },
    "language_info": {
      "name": "python"
    }
  },
  "cells": [
    {
      "cell_type": "code",
      "source": [
        "import nltk\n",
        "from nltk.chat.util import Chat, reflections\n",
        "\n",
        "pairs = [\n",
        "    (r\"my name is (.*)\", [\"Hello %1, How are you today?\"]),\n",
        "    (r\"hi|hey|hello\", [\"Hello\", \"Hey there\"]),\n",
        "    (r\"what is your name?\", [\"I am a bot created by [Your Name].\"]),\n",
        "    (r\"how are you?\", [\"I'm doing good. How about you?\"]),\n",
        "    (r\"sorry (.*)\", [\"No problem\", \"It's okay\", \"You don't need to be sorry\"]),\n",
        "    (r\"quit\", [\"Bye! Take care.\"]),\n",
        "]\n",
        "\n",
        "def chatbot():\n",
        "    print(\"Hi, I'm the chatbot you created. Type 'quit' to exit.\")\n",
        "    chat = Chat(pairs, reflections)\n",
        "    chat.converse()\n",
        "\n",
        "if __name__ == \"__main__\":\n",
        "    chatbot()"
      ],
      "metadata": {
        "colab": {
          "base_uri": "https://localhost:8080/"
        },
        "id": "goWXeqM2W2N1",
        "outputId": "c1b6ccfb-a599-4801-e9a0-bea327b5091c"
      },
      "execution_count": null,
      "outputs": [
        {
          "output_type": "stream",
          "name": "stdout",
          "text": [
            "Hi, I'm the chatbot you created. Type 'quit' to exit.\n",
            ">hey\n",
            "Hello\n"
          ]
        }
      ]
    },
    {
      "cell_type": "code",
      "source": [],
      "metadata": {
        "id": "EIUSFx0vepsV"
      },
      "execution_count": null,
      "outputs": []
    }
  ]
}